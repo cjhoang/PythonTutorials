{
 "cells": [
  {
   "cell_type": "markdown",
   "id": "b4c2312c",
   "metadata": {},
   "source": [
    "# Review 2: More examples of for loops and indexing with pandas dataframes"
   ]
  },
  {
   "cell_type": "markdown",
   "id": "49793308",
   "metadata": {},
   "source": [
    "In the previous tutorials we have learned how to use basic python libraries, seaborn, pandas, matplotlib etc. This review tutorial will go over some of those concepts, specifically for loops and indexing, by using pandas dataframes."
   ]
  },
  {
   "cell_type": "markdown",
   "id": "f50e5d52",
   "metadata": {},
   "source": [
    "#### Learning goals\n",
    "\n",
    "  - Briefly review dataframes\n",
    "  - Go over multiple ways to index into dataframes\n",
    "  - Find index values that meet specific criteria within a pandas dataframe\n",
    "  - Use for loops on a pandas dataframe\n",
    "  \n",
    "#### Prerequisites\n",
    "  - Python and NumPy\n",
    "  - Pandas, DataFrames and TimeSeries\n",
    "  - Seaborn\n",
    "  - Matplotlib\n",
    "  \n",
    " ---"
   ]
  },
  {
   "cell_type": "markdown",
   "id": "41e85c1f",
   "metadata": {},
   "source": [
    "The goal of this tutorial is to put together many of the previous teahcings to analyze real world data."
   ]
  },
  {
   "cell_type": "markdown",
   "id": "e71af8c4",
   "metadata": {},
   "source": [
    "For this, we will use the same open [data about hourly bicycle counts made available by the city of Seattle, WA](http://data.seattle.gov/) as from tutorial022. You should still have access to this from previous class. We will start with a brief reminder of Pandas dataframes, using the same commands from the previous tutorial. We will then follow up with examples for indexing and for loops with pandas dataframes.\n",
    "\n",
    "As a reminder of the contents of the dataset, Seattle has a bridge called Fremont Bridge. The bridge has installed devices that count bycles passing over the bridge (an automated bicycle counter). The sensors are located in the east and west sidewalks of the bridge."
   ]
  },
  {
   "cell_type": "markdown",
   "id": "a62c191f",
   "metadata": {},
   "source": [
    "### Pandas Review: Data loading and preparation"
   ]
  },
  {
   "cell_type": "code",
   "execution_count": 11,
   "id": "8772b3e9",
   "metadata": {},
   "outputs": [],
   "source": [
    "import pandas as pd\n",
    "import numpy as np\n",
    "import seaborn as sns\n",
    "sns.set() # this will set seaborn as the default formatting for all plots\n",
    "import matplotlib.pyplot as plt"
   ]
  },
  {
   "cell_type": "markdown",
   "id": "af6f7895",
   "metadata": {},
   "source": [
    "The first we will do is to load the data into a Pandas DataFrame. \n",
    "\n",
    "Make sure the data is saved inside a folder called 'datasets' saved in the current directory."
   ]
  },
  {
   "cell_type": "code",
   "execution_count": 17,
   "id": "516dadbc",
   "metadata": {},
   "outputs": [],
   "source": [
    "data = pd.read_csv('./datasets/Fremont_Bridge_Bicycle_Counter.csv', index_col='Date', parse_dates=True)"
   ]
  },
  {
   "cell_type": "markdown",
   "id": "17e24af5",
   "metadata": {},
   "source": [
    "After loading the data, let's take a quick look at the DataFrame. Just the first few rows. In this way, we will also test if everything is loaded and ready."
   ]
  },
  {
   "cell_type": "code",
   "execution_count": 19,
   "id": "78706c88",
   "metadata": {},
   "outputs": [
    {
     "data": {
      "text/html": [
       "<div>\n",
       "<style scoped>\n",
       "    .dataframe tbody tr th:only-of-type {\n",
       "        vertical-align: middle;\n",
       "    }\n",
       "\n",
       "    .dataframe tbody tr th {\n",
       "        vertical-align: top;\n",
       "    }\n",
       "\n",
       "    .dataframe thead th {\n",
       "        text-align: right;\n",
       "    }\n",
       "</style>\n",
       "<table border=\"1\" class=\"dataframe\">\n",
       "  <thead>\n",
       "    <tr style=\"text-align: right;\">\n",
       "      <th></th>\n",
       "      <th>Fremont Bridge Total</th>\n",
       "      <th>Fremont Bridge East Sidewalk</th>\n",
       "      <th>Fremont Bridge West Sidewalk</th>\n",
       "    </tr>\n",
       "    <tr>\n",
       "      <th>Date</th>\n",
       "      <th></th>\n",
       "      <th></th>\n",
       "      <th></th>\n",
       "    </tr>\n",
       "  </thead>\n",
       "  <tbody>\n",
       "    <tr>\n",
       "      <th>2019-11-01 00:00:00</th>\n",
       "      <td>12.0</td>\n",
       "      <td>7.0</td>\n",
       "      <td>5.0</td>\n",
       "    </tr>\n",
       "    <tr>\n",
       "      <th>2019-11-01 01:00:00</th>\n",
       "      <td>7.0</td>\n",
       "      <td>0.0</td>\n",
       "      <td>7.0</td>\n",
       "    </tr>\n",
       "    <tr>\n",
       "      <th>2019-11-01 02:00:00</th>\n",
       "      <td>1.0</td>\n",
       "      <td>0.0</td>\n",
       "      <td>1.0</td>\n",
       "    </tr>\n",
       "    <tr>\n",
       "      <th>2019-11-01 03:00:00</th>\n",
       "      <td>6.0</td>\n",
       "      <td>6.0</td>\n",
       "      <td>0.0</td>\n",
       "    </tr>\n",
       "    <tr>\n",
       "      <th>2019-11-01 04:00:00</th>\n",
       "      <td>6.0</td>\n",
       "      <td>5.0</td>\n",
       "      <td>1.0</td>\n",
       "    </tr>\n",
       "  </tbody>\n",
       "</table>\n",
       "</div>"
      ],
      "text/plain": [
       "                     Fremont Bridge Total  Fremont Bridge East Sidewalk  \\\n",
       "Date                                                                      \n",
       "2019-11-01 00:00:00                  12.0                           7.0   \n",
       "2019-11-01 01:00:00                   7.0                           0.0   \n",
       "2019-11-01 02:00:00                   1.0                           0.0   \n",
       "2019-11-01 03:00:00                   6.0                           6.0   \n",
       "2019-11-01 04:00:00                   6.0                           5.0   \n",
       "\n",
       "                     Fremont Bridge West Sidewalk  \n",
       "Date                                               \n",
       "2019-11-01 00:00:00                           5.0  \n",
       "2019-11-01 01:00:00                           7.0  \n",
       "2019-11-01 02:00:00                           1.0  \n",
       "2019-11-01 03:00:00                           0.0  \n",
       "2019-11-01 04:00:00                           1.0  "
      ]
     },
     "execution_count": 19,
     "metadata": {},
     "output_type": "execute_result"
    }
   ],
   "source": [
    "data.head()"
   ]
  },
  {
   "cell_type": "markdown",
   "id": "4214b722",
   "metadata": {},
   "source": [
    "The labels in the columns of are a bit too long for our purposes. So we will simolify them into 'Total', 'West' and 'East'. These are the counts (how many bicycles) in the West or East sidewalks and the Total counts across the two sidewlaks, 'Total'."
   ]
  },
  {
   "cell_type": "code",
   "execution_count": 20,
   "id": "a87698cb",
   "metadata": {},
   "outputs": [],
   "source": [
    "data.columns = ['Total','East', 'West']"
   ]
  },
  {
   "cell_type": "markdown",
   "id": "8fddf9d3",
   "metadata": {},
   "source": [
    "We will now recompute the total counts and save them back into the column called Total. \n",
    "\n",
    "Note. We use the method `eval`, that (ahem) evaluates a Python expression as a string. Meaning you can write a string, for a command and `eval` will run the command for you, like adding two columns of a DataFrame."
   ]
  },
  {
   "cell_type": "code",
   "execution_count": 27,
   "id": "dee942b3",
   "metadata": {},
   "outputs": [
    {
     "data": {
      "text/html": [
       "<div>\n",
       "<style scoped>\n",
       "    .dataframe tbody tr th:only-of-type {\n",
       "        vertical-align: middle;\n",
       "    }\n",
       "\n",
       "    .dataframe tbody tr th {\n",
       "        vertical-align: top;\n",
       "    }\n",
       "\n",
       "    .dataframe thead th {\n",
       "        text-align: right;\n",
       "    }\n",
       "</style>\n",
       "<table border=\"1\" class=\"dataframe\">\n",
       "  <thead>\n",
       "    <tr style=\"text-align: right;\">\n",
       "      <th></th>\n",
       "      <th>Total</th>\n",
       "      <th>East</th>\n",
       "      <th>West</th>\n",
       "    </tr>\n",
       "  </thead>\n",
       "  <tbody>\n",
       "    <tr>\n",
       "      <th>count</th>\n",
       "      <td>150134.000000</td>\n",
       "      <td>150134.000000</td>\n",
       "      <td>150134.000000</td>\n",
       "    </tr>\n",
       "    <tr>\n",
       "      <th>mean</th>\n",
       "      <td>109.507420</td>\n",
       "      <td>49.640488</td>\n",
       "      <td>59.866932</td>\n",
       "    </tr>\n",
       "    <tr>\n",
       "      <th>std</th>\n",
       "      <td>139.596963</td>\n",
       "      <td>64.238184</td>\n",
       "      <td>86.696586</td>\n",
       "    </tr>\n",
       "    <tr>\n",
       "      <th>min</th>\n",
       "      <td>0.000000</td>\n",
       "      <td>0.000000</td>\n",
       "      <td>0.000000</td>\n",
       "    </tr>\n",
       "    <tr>\n",
       "      <th>25%</th>\n",
       "      <td>14.000000</td>\n",
       "      <td>6.000000</td>\n",
       "      <td>7.000000</td>\n",
       "    </tr>\n",
       "    <tr>\n",
       "      <th>50%</th>\n",
       "      <td>59.000000</td>\n",
       "      <td>27.000000</td>\n",
       "      <td>30.000000</td>\n",
       "    </tr>\n",
       "    <tr>\n",
       "      <th>75%</th>\n",
       "      <td>144.000000</td>\n",
       "      <td>67.000000</td>\n",
       "      <td>74.000000</td>\n",
       "    </tr>\n",
       "    <tr>\n",
       "      <th>max</th>\n",
       "      <td>1097.000000</td>\n",
       "      <td>698.000000</td>\n",
       "      <td>850.000000</td>\n",
       "    </tr>\n",
       "  </tbody>\n",
       "</table>\n",
       "</div>"
      ],
      "text/plain": [
       "               Total           East           West\n",
       "count  150134.000000  150134.000000  150134.000000\n",
       "mean      109.507420      49.640488      59.866932\n",
       "std       139.596963      64.238184      86.696586\n",
       "min         0.000000       0.000000       0.000000\n",
       "25%        14.000000       6.000000       7.000000\n",
       "50%        59.000000      27.000000      30.000000\n",
       "75%       144.000000      67.000000      74.000000\n",
       "max      1097.000000     698.000000     850.000000"
      ]
     },
     "execution_count": 27,
     "metadata": {},
     "output_type": "execute_result"
    }
   ],
   "source": [
    "data1 = data\n",
    "data1['Total'] = data1.eval('West + East')\n",
    "data1.head()\n",
    "data1.dropna().describe()"
   ]
  },
  {
   "cell_type": "code",
   "execution_count": 29,
   "id": "9b20dc0a",
   "metadata": {},
   "outputs": [
    {
     "data": {
      "text/html": [
       "<div>\n",
       "<style scoped>\n",
       "    .dataframe tbody tr th:only-of-type {\n",
       "        vertical-align: middle;\n",
       "    }\n",
       "\n",
       "    .dataframe tbody tr th {\n",
       "        vertical-align: top;\n",
       "    }\n",
       "\n",
       "    .dataframe thead th {\n",
       "        text-align: right;\n",
       "    }\n",
       "</style>\n",
       "<table border=\"1\" class=\"dataframe\">\n",
       "  <thead>\n",
       "    <tr style=\"text-align: right;\">\n",
       "      <th></th>\n",
       "      <th>Total</th>\n",
       "      <th>East</th>\n",
       "      <th>West</th>\n",
       "    </tr>\n",
       "  </thead>\n",
       "  <tbody>\n",
       "    <tr>\n",
       "      <th>count</th>\n",
       "      <td>150134.000000</td>\n",
       "      <td>150134.000000</td>\n",
       "      <td>150134.000000</td>\n",
       "    </tr>\n",
       "    <tr>\n",
       "      <th>mean</th>\n",
       "      <td>109.507420</td>\n",
       "      <td>49.640488</td>\n",
       "      <td>59.866932</td>\n",
       "    </tr>\n",
       "    <tr>\n",
       "      <th>std</th>\n",
       "      <td>139.596963</td>\n",
       "      <td>64.238184</td>\n",
       "      <td>86.696586</td>\n",
       "    </tr>\n",
       "    <tr>\n",
       "      <th>min</th>\n",
       "      <td>0.000000</td>\n",
       "      <td>0.000000</td>\n",
       "      <td>0.000000</td>\n",
       "    </tr>\n",
       "    <tr>\n",
       "      <th>25%</th>\n",
       "      <td>14.000000</td>\n",
       "      <td>6.000000</td>\n",
       "      <td>7.000000</td>\n",
       "    </tr>\n",
       "    <tr>\n",
       "      <th>50%</th>\n",
       "      <td>59.000000</td>\n",
       "      <td>27.000000</td>\n",
       "      <td>30.000000</td>\n",
       "    </tr>\n",
       "    <tr>\n",
       "      <th>75%</th>\n",
       "      <td>144.000000</td>\n",
       "      <td>67.000000</td>\n",
       "      <td>74.000000</td>\n",
       "    </tr>\n",
       "    <tr>\n",
       "      <th>max</th>\n",
       "      <td>1097.000000</td>\n",
       "      <td>698.000000</td>\n",
       "      <td>850.000000</td>\n",
       "    </tr>\n",
       "  </tbody>\n",
       "</table>\n",
       "</div>"
      ],
      "text/plain": [
       "               Total           East           West\n",
       "count  150134.000000  150134.000000  150134.000000\n",
       "mean      109.507420      49.640488      59.866932\n",
       "std       139.596963      64.238184      86.696586\n",
       "min         0.000000       0.000000       0.000000\n",
       "25%        14.000000       6.000000       7.000000\n",
       "50%        59.000000      27.000000      30.000000\n",
       "75%       144.000000      67.000000      74.000000\n",
       "max      1097.000000     698.000000     850.000000"
      ]
     },
     "execution_count": 29,
     "metadata": {},
     "output_type": "execute_result"
    }
   ],
   "source": [
    "data['Total'] = data['West'] + data['East']\n",
    "data.head()\n",
    "data_tem = data.dropna()\n",
    "data_tem.describe()"
   ]
  },
  {
   "cell_type": "markdown",
   "id": "4faa0105",
   "metadata": {},
   "source": [
    "We can now take a look at the reorganized columns. This time using `describe`. But we want to drop the missing entries, so we use first `dropna`."
   ]
  },
  {
   "cell_type": "markdown",
   "id": "6994d435",
   "metadata": {},
   "source": [
    "### Data visualization"
   ]
  },
  {
   "cell_type": "markdown",
   "id": "4cb8bc93",
   "metadata": {},
   "source": [
    "The next thing we can do with the data is to visualize the time series. We can plot for example the counts (`Y` axis) by date (`X` axis)."
   ]
  },
  {
   "cell_type": "code",
   "execution_count": 30,
   "id": "eef9fcee",
   "metadata": {},
   "outputs": [
    {
     "data": {
      "text/plain": [
       "Text(0, 0.5, 'Bicycle per hour')"
      ]
     },
     "execution_count": 30,
     "metadata": {},
     "output_type": "execute_result"
    },
    {
     "data": {
      "image/png": "[encoded data removed]",
      "text/plain": [
       "<Figure size 432x288 with 1 Axes>"
      ]
     },
     "metadata": {},
     "output_type": "display_data"
    }
   ],
   "source": [
    "data.plot()\n",
    "plt.ylabel(\"Bicycle per hour\")"
   ]
  },
  {
   "cell_type": "markdown",
   "id": "4f7a4612-8052-4dd7-b708-6441e01e4a08",
   "metadata": {},
   "source": [
    "Excellent! We've gone over an example of a dataframe, first by loading the dataframe and describing some of the underlying descriptives of the dataframe. We followed that up by creating a visualizaiton of the data.\n",
    "\n",
    "Next, we will work through some examples of indexing and for loops using pandas dataframes."
   ]
  },
  {
   "cell_type": "markdown",
   "id": "28cb8f7b-38f6-433f-8bdf-c65af01cbc94",
   "metadata": {},
   "source": [
    "### Indexing, for loops, and dataframes"
   ]
  },
  {
   "cell_type": "markdown",
   "id": "a52ef47e-0979-413c-8dbd-1f14129b6902",
   "metadata": {},
   "source": [
    "There are many ways to index within dataframes. Remember, an indices allow us to extract specific entries in the dataframe. For a simple example, let's find the index of the values greater than 50 in the following list: [10,75,850,1,23,51,49,3,73,11,33,29]."
   ]
  },
  {
   "cell_type": "code",
   "execution_count": 31,
   "id": "6c4dbc68-c3d9-4959-a600-d3ab1a8dd34a",
   "metadata": {},
   "outputs": [],
   "source": [
    "lst = [10,75,850,1,23,51,49,3,73,11,33,29]"
   ]
  },
  {
   "cell_type": "markdown",
   "id": "0d6b46c9-d07f-4199-92b9-83131c94a3c1",
   "metadata": {},
   "source": [
    "There are many ways we can actually do this. First, we could use a little logic and a for loop to build a new list of locations within the original list where the value is greater than 50."
   ]
  },
  {
   "cell_type": "code",
   "execution_count": 37,
   "id": "83a8df23-6d82-4583-b9f1-8f3ea55fc4d5",
   "metadata": {},
   "outputs": [
    {
     "name": "stdout",
     "output_type": "stream",
     "text": [
      "these are the indices where lst is greater than 50: [1, 2, 5, 8]\n"
     ]
    }
   ],
   "source": [
    "# build a for loop to keep track of indices\n",
    "indices = list()\n",
    "\n",
    "for i in range(len(lst)):\n",
    "    if lst[i] > 50:\n",
    "        indices.append(i) # this will append the index i to the list if the lst value at the index is greater than 50\n",
    "\n",
    "# print the indices\n",
    "print('these are the indices where lst is greater than 50: %s' %str(indices))"
   ]
  },
  {
   "cell_type": "markdown",
   "id": "a645b0ad-d385-47cc-8c6c-eb043a76c8e6",
   "metadata": {},
   "source": [
    "Great! Now let's compute the average of the values greater than 50!"
   ]
  },
  {
   "cell_type": "code",
   "execution_count": 43,
   "id": "4b986009-283b-4a5e-82ae-d31980fc31f2",
   "metadata": {},
   "outputs": [
    {
     "ename": "TypeError",
     "evalue": "list indices must be integers or slices, not list",
     "output_type": "error",
     "traceback": [
      "\u001b[0;31m---------------------------------------------------------------------------\u001b[0m",
      "\u001b[0;31mTypeError\u001b[0m                                 Traceback (most recent call last)",
      "\u001b[0;32m/tmp/ipykernel_200785/2454465819.py\u001b[0m in \u001b[0;36m<module>\u001b[0;34m\u001b[0m\n\u001b[0;32m----> 1\u001b[0;31m \u001b[0mlst\u001b[0m\u001b[0;34m[\u001b[0m\u001b[0mindices\u001b[0m\u001b[0;34m]\u001b[0m\u001b[0;34m\u001b[0m\u001b[0;34m\u001b[0m\u001b[0m\n\u001b[0m",
      "\u001b[0;31mTypeError\u001b[0m: list indices must be integers or slices, not list"
     ]
    }
   ],
   "source": [
    "vls = lst[indices]"
   ]
  },
  {
   "cell_type": "markdown",
   "id": "5efdca60-2ca8-460b-9811-648392f0bfc6",
   "metadata": {},
   "source": [
    "Oh weird! I got an error! That's strange! Looks like I can't grab the values from lst with a list of multiple indices. Bummer!\n",
    "\n",
    "Looking at the error message, can you make a guess as to why this doesn't work? Enter your response below:"
   ]
  },
  {
   "cell_type": "markdown",
   "id": "192bfd7f-ebcf-4fe8-bc4e-696bdcbda07f",
   "metadata": {},
   "source": []
  },
  {
   "cell_type": "markdown",
   "id": "0b2e5a86-2761-4d2f-a069-cabc4e50fcb7",
   "metadata": {},
   "source": [
    "So, what can we do? Well, we have two options: one using numpy and the other using pandas. Let's go over the pandas way first.\n",
    "\n",
    "Specifically, we can use pd.Series to turn lst into a pandas series (think of a column in a dataframe), and then we can use multiple indices to extract the values from."
   ]
  },
  {
   "cell_type": "code",
   "execution_count": 47,
   "id": "4bd16172-046e-42ac-9ded-99d94fe01e78",
   "metadata": {},
   "outputs": [
    {
     "name": "stdout",
     "output_type": "stream",
     "text": [
      "The average value of instances above 50 is 262.25\n"
     ]
    }
   ],
   "source": [
    "# Turn lst into a series and grab values from series\n",
    "lst_series = pd.Series(lst)\n",
    "vls = lst_series[indices]\n",
    "\n",
    "# Compute the mean\n",
    "mean_vls = np.mean(vls)\n",
    "print('The average value of instances above 50 is %s' %str(mean_vls))"
   ]
  },
  {
   "cell_type": "markdown",
   "id": "ea149343-a7ec-4a18-8c9e-873d89867b58",
   "metadata": {},
   "source": [
    "Exercise: Can you do this using numpy? HINT: instead of a series, you need to turn lst into an array"
   ]
  },
  {
   "cell_type": "code",
   "execution_count": null,
   "id": "b386c557-d7fa-4444-9baa-1d5394c534d2",
   "metadata": {},
   "outputs": [],
   "source": []
  },
  {
   "cell_type": "markdown",
   "id": "4f396770-82de-408f-9752-2d9e714d603e",
   "metadata": {},
   "source": [
    "Excellent! We now know how to identify the index of values that meet a certain criteria in a list, and then how to compute the mean of those values by indexing into the list."
   ]
  },
  {
   "cell_type": "markdown",
   "id": "9cc7692a-64a4-4a0f-87b9-84c5126b6193",
   "metadata": {},
   "source": [
    "You may be asking yourself though: what exactly was our for loop doing to identify these indices? Well, let's take a little deeper dive into what our for loop from above was doing."
   ]
  },
  {
   "cell_type": "markdown",
   "id": "738defd6-5a6e-4f32-bebe-4971b0942572",
   "metadata": {},
   "source": [
    "We set our for loop up in a very specific way. Specifically, we used a 'range(len())' wrapping of functions. What exactly did this do?\n",
    "\n",
    "Well, let's just simply print the values of i from our for loop."
   ]
  },
  {
   "cell_type": "code",
   "execution_count": 51,
   "id": "809c5f2b-e966-409a-a538-9f08070bb82f",
   "metadata": {},
   "outputs": [
    {
     "name": "stdout",
     "output_type": "stream",
     "text": [
      "0\n",
      "1\n",
      "2\n",
      "3\n",
      "4\n",
      "5\n",
      "6\n",
      "7\n",
      "8\n",
      "9\n",
      "10\n",
      "11\n"
     ]
    }
   ],
   "source": [
    "for i in range(len(lst)):\n",
    "    print(i)"
   ]
  },
  {
   "cell_type": "markdown",
   "id": "ad1dae84-8153-4bf0-8085-35510bd59d7e",
   "metadata": {},
   "source": [
    "Ahh, so it looks like it's just counting by 1 all the way until the length of our list array. Remember, python starts with 0 as the first value.\n",
    "\n",
    "So cool, what is the rest of the loop doing? Well, let's add a few more print statements to see."
   ]
  },
  {
   "cell_type": "code",
   "execution_count": 58,
   "id": "1373e165-c041-498c-96ee-9e87f0924dd5",
   "metadata": {},
   "outputs": [
    {
     "name": "stdout",
     "output_type": "stream",
     "text": [
      "this is the index of the loop 0 and the value within lst at that index 10\n",
      "this is the index of the loop 1 and the value within lst at that index 75\n",
      "this is the index of the loop 2 and the value within lst at that index 850\n",
      "this is the index of the loop 3 and the value within lst at that index 1\n",
      "this is the index of the loop 4 and the value within lst at that index 23\n",
      "this is the index of the loop 5 and the value within lst at that index 51\n",
      "this is the index of the loop 6 and the value within lst at that index 49\n",
      "this is the index of the loop 7 and the value within lst at that index 3\n",
      "this is the index of the loop 8 and the value within lst at that index 73\n",
      "this is the index of the loop 9 and the value within lst at that index 11\n",
      "this is the index of the loop 10 and the value within lst at that index 33\n",
      "this is the index of the loop 11 and the value within lst at that index 29\n"
     ]
    }
   ],
   "source": [
    "for i in range(len(lst)):\n",
    "    print('this is the index of the loop %s and the value within lst at that index %s' %(str(i),str(lst[i])))"
   ]
  },
  {
   "cell_type": "markdown",
   "id": "5a830615-ec84-437e-9ca9-00fb62b7531c",
   "metadata": {},
   "source": [
    "Oh okay. Sor our for loop is starting at index 0 and looping through index 11 (i.e. position 12 of lst, also the length of lst). We can then use this i index into list and extract that specific value.\n",
    "\n",
    "So in our for loop from above, we were looping through every position of lst starting at the 0th position, identifying those locations in lst where lst[i] > 50, and then appending those values of i to a new list (indices).\n",
    "\n",
    "We are then able to use this to extract all the values of lst greater than 50!\n",
    "\n",
    "So, putting it all together:"
   ]
  },
  {
   "cell_type": "code",
   "execution_count": 61,
   "id": "7ac3af30-72f4-4d31-92bb-171cad3e1874",
   "metadata": {},
   "outputs": [
    {
     "name": "stdout",
     "output_type": "stream",
     "text": [
      "the value at this position 1 in lst is greater than 50\n",
      "the value at this position 2 in lst is greater than 50\n",
      "the value at this position 5 in lst is greater than 50\n",
      "the value at this position 8 in lst is greater than 50\n"
     ]
    }
   ],
   "source": [
    "for i in range(len(lst)):\n",
    "    if lst[i] > 50:\n",
    "        print('the value at this position %s in lst is greater than 50' %(str(i)))"
   ]
  },
  {
   "cell_type": "markdown",
   "id": "28164867-b4a0-4b7b-bf4f-3c175e5686c8",
   "metadata": {},
   "source": [
    "Great! So that's a brief description of indexing. Let's see how we can use this concept within a pandas dataframe."
   ]
  },
  {
   "cell_type": "markdown",
   "id": "c2a09090-326a-4777-bc41-cbf19b52c5b6",
   "metadata": {},
   "source": [
    "First, let's briefly review some ways we can index columns for a dataframe.\n",
    "\n",
    "Say we want to look at the 'Total' column in data."
   ]
  },
  {
   "cell_type": "code",
   "execution_count": 62,
   "id": "180791f0-e125-4d89-99ee-588fc00b04da",
   "metadata": {},
   "outputs": [
    {
     "data": {
      "text/plain": [
       "Date\n",
       "2019-11-01 00:00:00     12.0\n",
       "2019-11-01 01:00:00      7.0\n",
       "2019-11-01 02:00:00      1.0\n",
       "2019-11-01 03:00:00      6.0\n",
       "2019-11-01 04:00:00      6.0\n",
       "                       ...  \n",
       "2022-04-30 19:00:00    164.0\n",
       "2022-04-30 20:00:00     70.0\n",
       "2022-04-30 21:00:00     79.0\n",
       "2022-04-30 22:00:00     40.0\n",
       "2022-04-30 23:00:00     24.0\n",
       "Name: Total, Length: 150158, dtype: float64"
      ]
     },
     "execution_count": 62,
     "metadata": {},
     "output_type": "execute_result"
    }
   ],
   "source": [
    "# using brackets\n",
    "data['Total']"
   ]
  },
  {
   "cell_type": "code",
   "execution_count": 65,
   "id": "7c2c6f02-f8e7-4b12-a8f9-032614c5f841",
   "metadata": {},
   "outputs": [
    {
     "data": {
      "text/plain": [
       "Date\n",
       "2019-11-01 00:00:00     12.0\n",
       "2019-11-01 01:00:00      7.0\n",
       "2019-11-01 02:00:00      1.0\n",
       "2019-11-01 03:00:00      6.0\n",
       "2019-11-01 04:00:00      6.0\n",
       "                       ...  \n",
       "2022-04-30 19:00:00    164.0\n",
       "2022-04-30 20:00:00     70.0\n",
       "2022-04-30 21:00:00     79.0\n",
       "2022-04-30 22:00:00     40.0\n",
       "2022-04-30 23:00:00     24.0\n",
       "Name: Total, Length: 150158, dtype: float64"
      ]
     },
     "execution_count": 65,
     "metadata": {},
     "output_type": "execute_result"
    }
   ],
   "source": [
    "# using .column_name\n",
    "data.Total"
   ]
  },
  {
   "cell_type": "code",
   "execution_count": 64,
   "id": "7729d68e-f21b-444e-849f-36c458bc6ff6",
   "metadata": {},
   "outputs": [
    {
     "data": {
      "text/html": [
       "<div>\n",
       "<style scoped>\n",
       "    .dataframe tbody tr th:only-of-type {\n",
       "        vertical-align: middle;\n",
       "    }\n",
       "\n",
       "    .dataframe tbody tr th {\n",
       "        vertical-align: top;\n",
       "    }\n",
       "\n",
       "    .dataframe thead th {\n",
       "        text-align: right;\n",
       "    }\n",
       "</style>\n",
       "<table border=\"1\" class=\"dataframe\">\n",
       "  <thead>\n",
       "    <tr style=\"text-align: right;\">\n",
       "      <th></th>\n",
       "      <th>Total</th>\n",
       "    </tr>\n",
       "    <tr>\n",
       "      <th>Date</th>\n",
       "      <th></th>\n",
       "    </tr>\n",
       "  </thead>\n",
       "  <tbody>\n",
       "    <tr>\n",
       "      <th>2019-11-01 00:00:00</th>\n",
       "      <td>12.0</td>\n",
       "    </tr>\n",
       "    <tr>\n",
       "      <th>2019-11-01 01:00:00</th>\n",
       "      <td>7.0</td>\n",
       "    </tr>\n",
       "    <tr>\n",
       "      <th>2019-11-01 02:00:00</th>\n",
       "      <td>1.0</td>\n",
       "    </tr>\n",
       "    <tr>\n",
       "      <th>2019-11-01 03:00:00</th>\n",
       "      <td>6.0</td>\n",
       "    </tr>\n",
       "    <tr>\n",
       "      <th>2019-11-01 04:00:00</th>\n",
       "      <td>6.0</td>\n",
       "    </tr>\n",
       "    <tr>\n",
       "      <th>...</th>\n",
       "      <td>...</td>\n",
       "    </tr>\n",
       "    <tr>\n",
       "      <th>2022-04-30 19:00:00</th>\n",
       "      <td>164.0</td>\n",
       "    </tr>\n",
       "    <tr>\n",
       "      <th>2022-04-30 20:00:00</th>\n",
       "      <td>70.0</td>\n",
       "    </tr>\n",
       "    <tr>\n",
       "      <th>2022-04-30 21:00:00</th>\n",
       "      <td>79.0</td>\n",
       "    </tr>\n",
       "    <tr>\n",
       "      <th>2022-04-30 22:00:00</th>\n",
       "      <td>40.0</td>\n",
       "    </tr>\n",
       "    <tr>\n",
       "      <th>2022-04-30 23:00:00</th>\n",
       "      <td>24.0</td>\n",
       "    </tr>\n",
       "  </tbody>\n",
       "</table>\n",
       "<p>150158 rows × 1 columns</p>\n",
       "</div>"
      ],
      "text/plain": [
       "                     Total\n",
       "Date                      \n",
       "2019-11-01 00:00:00   12.0\n",
       "2019-11-01 01:00:00    7.0\n",
       "2019-11-01 02:00:00    1.0\n",
       "2019-11-01 03:00:00    6.0\n",
       "2019-11-01 04:00:00    6.0\n",
       "...                    ...\n",
       "2022-04-30 19:00:00  164.0\n",
       "2022-04-30 20:00:00   70.0\n",
       "2022-04-30 21:00:00   79.0\n",
       "2022-04-30 22:00:00   40.0\n",
       "2022-04-30 23:00:00   24.0\n",
       "\n",
       "[150158 rows x 1 columns]"
      ]
     },
     "execution_count": 64,
     "metadata": {},
     "output_type": "execute_result"
    }
   ],
   "source": [
    "# using .loc\n",
    "data.loc[:,data.columns == 'Total']"
   ]
  },
  {
   "cell_type": "markdown",
   "id": "77781051-f14a-40ed-83ec-951920767b44",
   "metadata": {},
   "source": [
    "Cool, so we have multiple ways to extract information from a column!"
   ]
  },
  {
   "cell_type": "markdown",
   "id": "0473f610-4d24-48ee-b28a-40e82667fc04",
   "metadata": {},
   "source": [
    "Now, let's count all the instances in our Biking dataframe where the total number of bikers is greater than the all-time average number of bikers."
   ]
  },
  {
   "cell_type": "markdown",
   "id": "e58b68e4-ee3a-42e1-8254-4af46721e8c0",
   "metadata": {},
   "source": [
    "Let's first do this by building a simple for loop like we did above."
   ]
  },
  {
   "cell_type": "code",
   "execution_count": 71,
   "id": "d249e118-6ca5-431c-bdb9-fd26277bed09",
   "metadata": {},
   "outputs": [
    {
     "name": "stdout",
     "output_type": "stream",
     "text": [
      "There are 80576 timestamps where there were more than 109.5074200380993 bikers on the bridge\n"
     ]
    }
   ],
   "source": [
    "# first, let's compute the mean of bikers across time\n",
    "mean_bikers = data['Total'].mean()\n",
    "\n",
    "# next, let's loop through all the entries in the dataframe and identify the rows where the Total number of bikers is greater than the total mean\n",
    "bikers_indices = list()\n",
    "for i in range(len(data['Total'])):\n",
    "    if data['Total'][i] > 50:\n",
    "        bikers_indices.append(i)\n",
    "        \n",
    "print('There are %s timestamps where there were more than %s bikers on the bridge' %(str(len(bikers_indices)),str(mean_bikers)))"
   ]
  },
  {
   "cell_type": "markdown",
   "id": "0ec0ca6e-221d-47b5-9f69-f06ff3519c83",
   "metadata": {},
   "source": [
    "Awesome, that's a lot of timepoints to sample from!\n",
    "\n",
    "Can you build a list of indices where there were fewer than mean_bikers on the bridge by modifying the for loop from above?"
   ]
  },
  {
   "cell_type": "code",
   "execution_count": null,
   "id": "700dd323-9b5c-4347-9d0e-c9e032d7cf63",
   "metadata": {},
   "outputs": [],
   "source": []
  },
  {
   "cell_type": "markdown",
   "id": "13609120-4dfe-4ec0-a6f3-55bc9e037535",
   "metadata": {},
   "source": [
    "Great, so we have a list of indices. Now how can we use them to extract data!\n",
    "\n",
    "We can use a pandas module called 'iloc' and pass in our indices list. Let's do that, and save a new dataframe"
   ]
  },
  {
   "cell_type": "code",
   "execution_count": 77,
   "id": "ef1f73a5-abff-4ff5-92c4-116679d0331f",
   "metadata": {},
   "outputs": [
    {
     "data": {
      "text/html": [
       "<div>\n",
       "<style scoped>\n",
       "    .dataframe tbody tr th:only-of-type {\n",
       "        vertical-align: middle;\n",
       "    }\n",
       "\n",
       "    .dataframe tbody tr th {\n",
       "        vertical-align: top;\n",
       "    }\n",
       "\n",
       "    .dataframe thead th {\n",
       "        text-align: right;\n",
       "    }\n",
       "</style>\n",
       "<table border=\"1\" class=\"dataframe\">\n",
       "  <thead>\n",
       "    <tr style=\"text-align: right;\">\n",
       "      <th></th>\n",
       "      <th>Total</th>\n",
       "      <th>East</th>\n",
       "      <th>West</th>\n",
       "    </tr>\n",
       "    <tr>\n",
       "      <th>Date</th>\n",
       "      <th></th>\n",
       "      <th></th>\n",
       "      <th></th>\n",
       "    </tr>\n",
       "  </thead>\n",
       "  <tbody>\n",
       "    <tr>\n",
       "      <th>2019-11-01 06:00:00</th>\n",
       "      <td>97.0</td>\n",
       "      <td>43.0</td>\n",
       "      <td>54.0</td>\n",
       "    </tr>\n",
       "    <tr>\n",
       "      <th>2019-11-01 07:00:00</th>\n",
       "      <td>299.0</td>\n",
       "      <td>120.0</td>\n",
       "      <td>179.0</td>\n",
       "    </tr>\n",
       "    <tr>\n",
       "      <th>2019-11-01 08:00:00</th>\n",
       "      <td>583.0</td>\n",
       "      <td>261.0</td>\n",
       "      <td>322.0</td>\n",
       "    </tr>\n",
       "    <tr>\n",
       "      <th>2019-11-01 09:00:00</th>\n",
       "      <td>332.0</td>\n",
       "      <td>130.0</td>\n",
       "      <td>202.0</td>\n",
       "    </tr>\n",
       "    <tr>\n",
       "      <th>2019-11-01 10:00:00</th>\n",
       "      <td>124.0</td>\n",
       "      <td>56.0</td>\n",
       "      <td>68.0</td>\n",
       "    </tr>\n",
       "    <tr>\n",
       "      <th>...</th>\n",
       "      <td>...</td>\n",
       "      <td>...</td>\n",
       "      <td>...</td>\n",
       "    </tr>\n",
       "    <tr>\n",
       "      <th>2022-04-30 17:00:00</th>\n",
       "      <td>187.0</td>\n",
       "      <td>85.0</td>\n",
       "      <td>102.0</td>\n",
       "    </tr>\n",
       "    <tr>\n",
       "      <th>2022-04-30 18:00:00</th>\n",
       "      <td>152.0</td>\n",
       "      <td>79.0</td>\n",
       "      <td>73.0</td>\n",
       "    </tr>\n",
       "    <tr>\n",
       "      <th>2022-04-30 19:00:00</th>\n",
       "      <td>164.0</td>\n",
       "      <td>63.0</td>\n",
       "      <td>101.0</td>\n",
       "    </tr>\n",
       "    <tr>\n",
       "      <th>2022-04-30 20:00:00</th>\n",
       "      <td>70.0</td>\n",
       "      <td>33.0</td>\n",
       "      <td>37.0</td>\n",
       "    </tr>\n",
       "    <tr>\n",
       "      <th>2022-04-30 21:00:00</th>\n",
       "      <td>79.0</td>\n",
       "      <td>15.0</td>\n",
       "      <td>64.0</td>\n",
       "    </tr>\n",
       "  </tbody>\n",
       "</table>\n",
       "<p>80576 rows × 3 columns</p>\n",
       "</div>"
      ],
      "text/plain": [
       "                     Total   East   West\n",
       "Date                                    \n",
       "2019-11-01 06:00:00   97.0   43.0   54.0\n",
       "2019-11-01 07:00:00  299.0  120.0  179.0\n",
       "2019-11-01 08:00:00  583.0  261.0  322.0\n",
       "2019-11-01 09:00:00  332.0  130.0  202.0\n",
       "2019-11-01 10:00:00  124.0   56.0   68.0\n",
       "...                    ...    ...    ...\n",
       "2022-04-30 17:00:00  187.0   85.0  102.0\n",
       "2022-04-30 18:00:00  152.0   79.0   73.0\n",
       "2022-04-30 19:00:00  164.0   63.0  101.0\n",
       "2022-04-30 20:00:00   70.0   33.0   37.0\n",
       "2022-04-30 21:00:00   79.0   15.0   64.0\n",
       "\n",
       "[80576 rows x 3 columns]"
      ]
     },
     "execution_count": 77,
     "metadata": {},
     "output_type": "execute_result"
    }
   ],
   "source": [
    "bikers_greater_than_average = data.iloc[bikers_indices]\n",
    "bikers_greater_than_average"
   ]
  },
  {
   "cell_type": "markdown",
   "id": "94715043-b5be-4a2f-8cf6-30da47326fe6",
   "metadata": {},
   "source": [
    "Excellent! Now, what if i told you there was a simpler way to create this dataframe? We can leverage pandas .loc function to find only the instances that meet our criteria. Essentially, with this, we can skip building a list of indices as pandas will do this for us!\n",
    "\n",
    "Let me show you!"
   ]
  },
  {
   "cell_type": "code",
   "execution_count": 81,
   "id": "99492634-f275-4ca8-b60a-a242e4797a71",
   "metadata": {},
   "outputs": [
    {
     "data": {
      "text/html": [
       "<div>\n",
       "<style scoped>\n",
       "    .dataframe tbody tr th:only-of-type {\n",
       "        vertical-align: middle;\n",
       "    }\n",
       "\n",
       "    .dataframe tbody tr th {\n",
       "        vertical-align: top;\n",
       "    }\n",
       "\n",
       "    .dataframe thead th {\n",
       "        text-align: right;\n",
       "    }\n",
       "</style>\n",
       "<table border=\"1\" class=\"dataframe\">\n",
       "  <thead>\n",
       "    <tr style=\"text-align: right;\">\n",
       "      <th></th>\n",
       "      <th>Total</th>\n",
       "      <th>East</th>\n",
       "      <th>West</th>\n",
       "    </tr>\n",
       "    <tr>\n",
       "      <th>Date</th>\n",
       "      <th></th>\n",
       "      <th></th>\n",
       "      <th></th>\n",
       "    </tr>\n",
       "  </thead>\n",
       "  <tbody>\n",
       "    <tr>\n",
       "      <th>2019-11-01 06:00:00</th>\n",
       "      <td>97.0</td>\n",
       "      <td>43.0</td>\n",
       "      <td>54.0</td>\n",
       "    </tr>\n",
       "    <tr>\n",
       "      <th>2019-11-01 07:00:00</th>\n",
       "      <td>299.0</td>\n",
       "      <td>120.0</td>\n",
       "      <td>179.0</td>\n",
       "    </tr>\n",
       "    <tr>\n",
       "      <th>2019-11-01 08:00:00</th>\n",
       "      <td>583.0</td>\n",
       "      <td>261.0</td>\n",
       "      <td>322.0</td>\n",
       "    </tr>\n",
       "    <tr>\n",
       "      <th>2019-11-01 09:00:00</th>\n",
       "      <td>332.0</td>\n",
       "      <td>130.0</td>\n",
       "      <td>202.0</td>\n",
       "    </tr>\n",
       "    <tr>\n",
       "      <th>2019-11-01 10:00:00</th>\n",
       "      <td>124.0</td>\n",
       "      <td>56.0</td>\n",
       "      <td>68.0</td>\n",
       "    </tr>\n",
       "    <tr>\n",
       "      <th>...</th>\n",
       "      <td>...</td>\n",
       "      <td>...</td>\n",
       "      <td>...</td>\n",
       "    </tr>\n",
       "    <tr>\n",
       "      <th>2022-04-30 17:00:00</th>\n",
       "      <td>187.0</td>\n",
       "      <td>85.0</td>\n",
       "      <td>102.0</td>\n",
       "    </tr>\n",
       "    <tr>\n",
       "      <th>2022-04-30 18:00:00</th>\n",
       "      <td>152.0</td>\n",
       "      <td>79.0</td>\n",
       "      <td>73.0</td>\n",
       "    </tr>\n",
       "    <tr>\n",
       "      <th>2022-04-30 19:00:00</th>\n",
       "      <td>164.0</td>\n",
       "      <td>63.0</td>\n",
       "      <td>101.0</td>\n",
       "    </tr>\n",
       "    <tr>\n",
       "      <th>2022-04-30 20:00:00</th>\n",
       "      <td>70.0</td>\n",
       "      <td>33.0</td>\n",
       "      <td>37.0</td>\n",
       "    </tr>\n",
       "    <tr>\n",
       "      <th>2022-04-30 21:00:00</th>\n",
       "      <td>79.0</td>\n",
       "      <td>15.0</td>\n",
       "      <td>64.0</td>\n",
       "    </tr>\n",
       "  </tbody>\n",
       "</table>\n",
       "<p>80576 rows × 3 columns</p>\n",
       "</div>"
      ],
      "text/plain": [
       "                     Total   East   West\n",
       "Date                                    \n",
       "2019-11-01 06:00:00   97.0   43.0   54.0\n",
       "2019-11-01 07:00:00  299.0  120.0  179.0\n",
       "2019-11-01 08:00:00  583.0  261.0  322.0\n",
       "2019-11-01 09:00:00  332.0  130.0  202.0\n",
       "2019-11-01 10:00:00  124.0   56.0   68.0\n",
       "...                    ...    ...    ...\n",
       "2022-04-30 17:00:00  187.0   85.0  102.0\n",
       "2022-04-30 18:00:00  152.0   79.0   73.0\n",
       "2022-04-30 19:00:00  164.0   63.0  101.0\n",
       "2022-04-30 20:00:00   70.0   33.0   37.0\n",
       "2022-04-30 21:00:00   79.0   15.0   64.0\n",
       "\n",
       "[80576 rows x 3 columns]"
      ]
     },
     "execution_count": 81,
     "metadata": {},
     "output_type": "execute_result"
    }
   ],
   "source": [
    "bikers_greater_than_average_2 = data.loc[data['Total'] > 50]\n",
    "bikers_greater_than_average_2"
   ]
  },
  {
   "cell_type": "code",
   "execution_count": 85,
   "id": "5820acf7-1d67-4057-8e4e-56ae532122bd",
   "metadata": {},
   "outputs": [
    {
     "data": {
      "text/plain": [
       "array([ True])"
      ]
     },
     "execution_count": 85,
     "metadata": {},
     "output_type": "execute_result"
    }
   ],
   "source": [
    "(bikers_greater_than_average == bikers_greater_than_average_2).Total.unique()"
   ]
  },
  {
   "cell_type": "code",
   "execution_count": 86,
   "id": "1b45a497-0ceb-4d01-9db2-ffa381c20db0",
   "metadata": {},
   "outputs": [
    {
     "data": {
      "text/plain": [
       "<AxesSubplot:xlabel='Total', ylabel='Total'>"
      ]
     },
     "execution_count": 86,
     "metadata": {},
     "output_type": "execute_result"
    },
    {
     "data": {
      "image/png": "[encoded data removed]",
      "text/plain": [
       "<Figure size 432x288 with 1 Axes>"
      ]
     },
     "metadata": {},
     "output_type": "display_data"
    }
   ],
   "source": [
    "sns.scatterplot(x=bikers_greater_than_average['Total'],y=bikers_greater_than_average_2['Total'])"
   ]
  },
  {
   "cell_type": "markdown",
   "id": "53515eda-f72e-4404-80f3-0dfd27d0c5d1",
   "metadata": {},
   "source": [
    "And as you can see, the dataframes are exactly the same, and I didn't have to build a for loop to do this! Awesome! Love being lazy!"
   ]
  },
  {
   "cell_type": "markdown",
   "id": "fa695a70",
   "metadata": {},
   "source": [
    "### Exercise.\n",
    "\n",
    "Using the bikers dataframe, what we've discussed above, and some of the plot making functions from previous tutorials, answer the following questions by writing code in the proceeding cells:\n",
    "\n",
    "    1. How many timepoints exist in the Bikers dataframe where the Total number of bikers on the bridge is between min and 50 (a), 50 and 75 (b), and 75 and max (c)? For a) and b), use for loops and numpy. For c), use pandas functions.\n",
    "    \n",
    "    2. What do the distributions for each of these bins look like? To do this, create a subsampling of the 'data' dataframe with the indices from each bin in question 1 and create three histograms (one for each binning a, b, c) of the Total number of bikers.\n",
    "    \n",
    "    3. Do Eastbound travelers outbound Westbound travelers during these bins? To answer this, use the indices from 1a, b, and c and create three bar plots (one for each binninng a b c) of the the number of bikers heading East and the number of bikers heading West."
   ]
  },
  {
   "cell_type": "markdown",
   "id": "de3eb4ce-9301-4280-825d-df217f4c55a1",
   "metadata": {},
   "source": [
    "1. (a)"
   ]
  },
  {
   "cell_type": "code",
   "execution_count": null,
   "id": "c6a75b8f-c22f-488b-850f-b96bc9c4b6d5",
   "metadata": {},
   "outputs": [],
   "source": []
  },
  {
   "cell_type": "markdown",
   "id": "401b3291-317c-4fe8-8201-abed9ee6fff7",
   "metadata": {},
   "source": [
    "1. (b)"
   ]
  },
  {
   "cell_type": "code",
   "execution_count": null,
   "id": "75545cda-32cb-4ac7-9a40-176f52a59898",
   "metadata": {},
   "outputs": [],
   "source": []
  },
  {
   "cell_type": "markdown",
   "id": "bc3d4228-4247-4528-a1b5-e5a0006ea298",
   "metadata": {},
   "source": [
    "1. (c)"
   ]
  },
  {
   "cell_type": "code",
   "execution_count": null,
   "id": "588b2ce9-989b-4159-b2bd-1168df877a4d",
   "metadata": {},
   "outputs": [],
   "source": []
  },
  {
   "cell_type": "markdown",
   "id": "6ab0e10a-b036-4db4-a8a4-1107bf7889d5",
   "metadata": {},
   "source": [
    "2."
   ]
  },
  {
   "cell_type": "code",
   "execution_count": null,
   "id": "cc0c0cd6-f50a-4eb8-88a4-97c95b64787c",
   "metadata": {},
   "outputs": [],
   "source": []
  },
  {
   "cell_type": "markdown",
   "id": "4a997ff0-bcad-4e1b-b29d-6e0a398c440a",
   "metadata": {},
   "source": [
    "3."
   ]
  },
  {
   "cell_type": "code",
   "execution_count": null,
   "id": "359aafdc-b7d6-42fd-a397-6fdcdc14f4ab",
   "metadata": {},
   "outputs": [],
   "source": []
  }
 ],
 "metadata": {
  "kernelspec": {
   "display_name": "Python 3 (ipykernel)",
   "language": "python",
   "name": "python3"
  },
  "language_info": {
   "codemirror_mode": {
    "name": "ipython",
    "version": 3
   },
   "file_extension": ".py",
   "mimetype": "text/x-python",
   "name": "python",
   "nbconvert_exporter": "python",
   "pygments_lexer": "ipython3",
   "version": "3.9.12"
  }
 },
 "nbformat": 4,
 "nbformat_minor": 5
}
